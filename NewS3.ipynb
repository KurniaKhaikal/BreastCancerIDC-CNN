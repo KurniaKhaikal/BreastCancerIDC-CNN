{
  "nbformat": 4,
  "nbformat_minor": 0,
  "metadata": {
    "colab": {
      "name": "NewS3.ipynb",
      "provenance": [],
      "authorship_tag": "ABX9TyOUaxB+ioCoYTqCQK9IMiti",
      "include_colab_link": true
    },
    "kernelspec": {
      "name": "python3",
      "display_name": "Python 3"
    },
    "language_info": {
      "name": "python"
    }
  },
  "cells": [
    {
      "cell_type": "markdown",
      "metadata": {
        "id": "view-in-github",
        "colab_type": "text"
      },
      "source": [
        "<a href=\"https://colab.research.google.com/github/KurniaKhaikal/BreastCancerIDC-CNN/blob/khaikal/NewS3.ipynb\" target=\"_parent\"><img src=\"https://colab.research.google.com/assets/colab-badge.svg\" alt=\"Open In Colab\"/></a>"
      ]
    },
    {
      "cell_type": "code",
      "metadata": {
        "id": "uDlhSpI6u3LH"
      },
      "source": [
        "import pandas as pd\n",
        "import numpy as np\n",
        "import os\n",
        "from glob import glob\n",
        "import random\n",
        "import matplotlib.pylab as plt"
      ],
      "execution_count": 1,
      "outputs": []
    },
    {
      "cell_type": "code",
      "metadata": {
        "id": "hGq4LT1Mu8Nr"
      },
      "source": [
        "!mkdir ~/.kaggle\n",
        "!touch ~/.kaggle/kaggle.json\n",
        "\n",
        "api_token = {\"username\":\"khaikal\",\"key\":\"9e492a7553b8e713debda6f4f6810151\"}\n",
        "\n",
        "import json\n",
        "\n",
        "with open('/root/.kaggle/kaggle.json', 'w') as file:\n",
        "    json.dump(api_token, file)\n",
        "\n",
        "!chmod 600 ~/.kaggle/kaggle.json"
      ],
      "execution_count": 2,
      "outputs": []
    },
    {
      "cell_type": "code",
      "metadata": {
        "colab": {
          "base_uri": "https://localhost:8080/"
        },
        "id": "kTUi2rI6vALD",
        "outputId": "89f2506d-e9f6-4646-b093-cb3657ad5de8"
      },
      "source": [
        "!kaggle datasets download -d paultimothymooney/breast-histopathology-images"
      ],
      "execution_count": 3,
      "outputs": [
        {
          "output_type": "stream",
          "name": "stdout",
          "text": [
            "Downloading breast-histopathology-images.zip to /content\n",
            "100% 3.09G/3.10G [00:49<00:00, 42.6MB/s]\n",
            "100% 3.10G/3.10G [00:49<00:00, 66.9MB/s]\n"
          ]
        }
      ]
    },
    {
      "cell_type": "code",
      "metadata": {
        "id": "c2nepYAuv5aS"
      },
      "source": [
        "import os\n",
        "import zipfile\n",
        "\n",
        "local_zip = '/content/breast-histopathology-images.zip'\n",
        "zip_ref = zipfile.ZipFile(local_zip, 'r')\n",
        "zip_ref.extractall('/content/input')\n",
        "zip_ref.close()"
      ],
      "execution_count": 4,
      "outputs": []
    },
    {
      "cell_type": "code",
      "metadata": {
        "colab": {
          "base_uri": "https://localhost:8080/"
        },
        "id": "BWfeu6gSxXPz",
        "outputId": "c658463a-3256-4b6b-aeed-cad9e2aae7af"
      },
      "source": [
        "mypaths=[]\n",
        "for name in glob('/content/input/IDC_regular_ps50_idx5/*',recursive=True):\n",
        "    mypaths.append(name)\n",
        "print(mypaths[:5])"
      ],
      "execution_count": 12,
      "outputs": [
        {
          "output_type": "stream",
          "name": "stdout",
          "text": [
            "['/content/input/IDC_regular_ps50_idx5/10264', '/content/input/IDC_regular_ps50_idx5/15515', '/content/input/IDC_regular_ps50_idx5/13617', '/content/input/IDC_regular_ps50_idx5/9291', '/content/input/IDC_regular_ps50_idx5/14156']\n"
          ]
        }
      ]
    },
    {
      "cell_type": "code",
      "metadata": {
        "id": "_9iCFpmhx_8v"
      },
      "source": [
        "mp=mypaths[60:120]\n",
        "imagePatches=[]\n",
        "for i in mp:\n",
        "    imagePatches+=glob(i+'/*/*.png', recursive=True)"
      ],
      "execution_count": 13,
      "outputs": []
    },
    {
      "cell_type": "code",
      "metadata": {
        "colab": {
          "base_uri": "https://localhost:8080/"
        },
        "id": "SPOZGwrUyBd0",
        "outputId": "f797e835-fccc-4058-d5d7-48f5dae20660"
      },
      "source": [
        "print('total no. of images selected from total images is '+str(len(imagePatches)))\n",
        "#imagePatches[60:90]"
      ],
      "execution_count": 15,
      "outputs": [
        {
          "output_type": "stream",
          "name": "stdout",
          "text": [
            "total no. of images selected from total images is 54364\n"
          ]
        }
      ]
    },
    {
      "cell_type": "code",
      "metadata": {
        "id": "_xGNPIvAybHZ"
      },
      "source": [
        "class0 = [] # 0 = no cancer\n",
        "class1 = [] # 1 = cancer\n",
        "\n",
        "for filename in imagePatches:\n",
        "    if filename.endswith(\"class0.png\"):\n",
        "         class0.append(filename)\n",
        "    else:\n",
        "        class1.append(filename)"
      ],
      "execution_count": 16,
      "outputs": []
    },
    {
      "cell_type": "code",
      "metadata": {
        "colab": {
          "base_uri": "https://localhost:8080/"
        },
        "id": "wopU--bTycNK",
        "outputId": "d0f8c5ff-7ef9-47ca-c89b-78199c993c82"
      },
      "source": [
        "print('Among them, '+str(len(class0))+' is clss0 and '+str(len(class1))+' is class1')"
      ],
      "execution_count": 17,
      "outputs": [
        {
          "output_type": "stream",
          "name": "stdout",
          "text": [
            "Among them, 38196 is clss0 and 16168 is class1\n"
          ]
        }
      ]
    },
    {
      "cell_type": "code",
      "metadata": {
        "colab": {
          "base_uri": "https://localhost:8080/"
        },
        "id": "BsBdF5t5yefc",
        "outputId": "edd80a03-9bf1-4fa0-9d4e-dee7d7dfcc84"
      },
      "source": [
        "sampled_class0 = random.sample(class0, len(class1))\n",
        "sampled_class1 = random.sample(class1, len(class1))\n",
        "len(sampled_class0)"
      ],
      "execution_count": 18,
      "outputs": [
        {
          "output_type": "execute_result",
          "data": {
            "text/plain": [
              "16168"
            ]
          },
          "metadata": {},
          "execution_count": 18
        }
      ]
    },
    {
      "cell_type": "code",
      "metadata": {
        "id": "l5Q7-audyhkM"
      },
      "source": [
        "from matplotlib.image import imread\n",
        "import cv2\n",
        "\n",
        "def get_image_arrays(data, label):\n",
        "    img_arrays = []\n",
        "    for i in data:\n",
        "      if i.endswith('.png'):\n",
        "        img = cv2.imread(i ,cv2.IMREAD_COLOR)\n",
        "        img_sized = cv2.resize(img, (50, 50), interpolation=cv2.INTER_LINEAR)\n",
        "        img_re=img_sized/255.0\n",
        "        img_arrays.append([img_re, label])\n",
        "    return img_arrays"
      ],
      "execution_count": 19,
      "outputs": []
    },
    {
      "cell_type": "code",
      "metadata": {
        "colab": {
          "base_uri": "https://localhost:8080/"
        },
        "id": "e-XHqEctyk1w",
        "outputId": "d127fddc-2920-4f12-ffd7-60247a9637f6"
      },
      "source": [
        "class0_array = get_image_arrays(sampled_class0, 0)\n",
        "class1_array = get_image_arrays(sampled_class1, 1)\n",
        "print('done')"
      ],
      "execution_count": 20,
      "outputs": [
        {
          "output_type": "stream",
          "name": "stdout",
          "text": [
            "done\n"
          ]
        }
      ]
    },
    {
      "cell_type": "code",
      "metadata": {
        "colab": {
          "base_uri": "https://localhost:8080/"
        },
        "id": "RiNI8NBpysN3",
        "outputId": "006b2d56-95f0-4d21-90e9-93f1d3084f27"
      },
      "source": [
        "print(len(class0_array))\n",
        "print(len(class1_array))"
      ],
      "execution_count": 21,
      "outputs": [
        {
          "output_type": "stream",
          "name": "stdout",
          "text": [
            "16168\n",
            "16168\n"
          ]
        }
      ]
    },
    {
      "cell_type": "code",
      "metadata": {
        "colab": {
          "base_uri": "https://localhost:8080/",
          "height": 284
        },
        "id": "k28hMyTmzV2N",
        "outputId": "2c5f982c-96ef-4888-ae43-c709cf89192d"
      },
      "source": [
        "plt.imshow(class1_array[10][0])"
      ],
      "execution_count": 22,
      "outputs": [
        {
          "output_type": "execute_result",
          "data": {
            "text/plain": [
              "<matplotlib.image.AxesImage at 0x7fcfde6acad0>"
            ]
          },
          "metadata": {},
          "execution_count": 22
        },
        {
          "output_type": "display_data",
          "data": {
            "image/png": "[encoded data removed]",
            "text/plain": [
              "<Figure size 432x288 with 1 Axes>"
            ]
          },
          "metadata": {
            "needs_background": "light"
          }
        }
      ]
    },
    {
      "cell_type": "code",
      "metadata": {
        "colab": {
          "base_uri": "https://localhost:8080/"
        },
        "id": "_eFnoCgWzYra",
        "outputId": "d0f13c53-cbb9-43d8-b207-74d7d1cfebb1"
      },
      "source": [
        "combined_data = np.concatenate((class0_array, class1_array))"
      ],
      "execution_count": 23,
      "outputs": [
        {
          "output_type": "stream",
          "name": "stderr",
          "text": [
            "<string>:6: VisibleDeprecationWarning: Creating an ndarray from ragged nested sequences (which is a list-or-tuple of lists-or-tuples-or ndarrays with different lengths or shapes) is deprecated. If you meant to do this, you must specify 'dtype=object' when creating the ndarray\n"
          ]
        }
      ]
    },
    {
      "cell_type": "code",
      "metadata": {
        "id": "isCfURwMzb50"
      },
      "source": [
        "X = []\n",
        "y = []\n",
        "\n",
        "for features,label in combined_data:\n",
        "    X.append(features)\n",
        "    y.append(label)"
      ],
      "execution_count": 24,
      "outputs": []
    },
    {
      "cell_type": "code",
      "metadata": {
        "id": "Ep9M_N2LzgSb"
      },
      "source": [
        "X = np.array(X).reshape(-1, 50, 50, 3)"
      ],
      "execution_count": 25,
      "outputs": []
    },
    {
      "cell_type": "code",
      "metadata": {
        "colab": {
          "base_uri": "https://localhost:8080/"
        },
        "id": "pJp24DGGzik4",
        "outputId": "512cf7a8-ef38-46f5-cf26-7051a924ebb0"
      },
      "source": [
        "from sklearn.model_selection import train_test_split\n",
        "from keras.utils.np_utils import to_categorical\n",
        "\n",
        "X_train, X_test, y_train, y_test = train_test_split(X, y, test_size=0.2, random_state=42)\n",
        "y_train = to_categorical(y_train)\n",
        "y_test = to_categorical(y_test)\n",
        "print(X_train.shape, X_test.shape, y_train.shape, y_test.shape)"
      ],
      "execution_count": 26,
      "outputs": [
        {
          "output_type": "stream",
          "name": "stdout",
          "text": [
            "(25868, 50, 50, 3) (6468, 50, 50, 3) (25868, 2) (6468, 2)\n"
          ]
        }
      ]
    },
    {
      "cell_type": "code",
      "metadata": {
        "id": "AeDmM3DV1ocY"
      },
      "source": [
        "import tensorflow as tf\n",
        "from tensorflow import keras"
      ],
      "execution_count": 27,
      "outputs": []
    },
    {
      "cell_type": "code",
      "metadata": {
        "id": "ED6HddP71psq"
      },
      "source": [
        "model = keras.models.Sequential([\n",
        "    keras.layers.Conv2D(filters=100, kernel_size=(3,3), strides=(1,1), activation='relu', input_shape=(50,50,3)),\n",
        "    keras.layers.BatchNormalization(),\n",
        "    keras.layers.MaxPool2D(pool_size=(2,2), strides=(2,2)),\n",
        "    keras.layers.Conv2D(filters=256, kernel_size=(2,2), strides=(2,2), activation='relu', padding=\"same\"),\n",
        "    keras.layers.BatchNormalization(),\n",
        "    keras.layers.MaxPool2D(pool_size=(3,3), strides=(2,2)),\n",
        "    keras.layers.Conv2D(filters=384, kernel_size=(2,2), strides=(1,1), activation='relu', padding=\"same\"),\n",
        "    keras.layers.BatchNormalization(),\n",
        "    keras.layers.Conv2D(filters=384, kernel_size=(1,1), strides=(1,1), activation='relu', padding=\"same\"),\n",
        "    keras.layers.BatchNormalization(),\n",
        "    keras.layers.Conv2D(filters=256, kernel_size=(1,1), strides=(1,1), activation='relu', padding=\"same\"),\n",
        "    keras.layers.BatchNormalization(),\n",
        "    keras.layers.MaxPool2D(pool_size=(3,3), strides=(2,2)),\n",
        "    keras.layers.Flatten(),\n",
        "    keras.layers.Dense(9216,input_shape=(12544,), activation='relu'),\n",
        "    keras.layers.Dense(4096, activation='relu'),\n",
        "    keras.layers.Dropout(0.5),\n",
        "    keras.layers.Dense(4096, activation='relu'),\n",
        "    keras.layers.Dropout(0.5),\n",
        "    keras.layers.Dense(2, activation='sigmoid')\n",
        "])"
      ],
      "execution_count": 28,
      "outputs": []
    },
    {
      "cell_type": "code",
      "metadata": {
        "colab": {
          "base_uri": "https://localhost:8080/"
        },
        "id": "QMtUqFGx1txE",
        "outputId": "6e655167-2aee-4bc5-eb41-e3de610ff931"
      },
      "source": [
        "model.compile(\n",
        "    optimizer=tf.optimizers.Adam(lr=0.000001),\n",
        "    loss='binary_crossentropy',\n",
        "    metrics=['accuracy','Recall','Precision']\n",
        ")"
      ],
      "execution_count": 29,
      "outputs": [
        {
          "output_type": "stream",
          "name": "stderr",
          "text": [
            "/usr/local/lib/python3.7/dist-packages/keras/optimizer_v2/adam.py:105: UserWarning: The `lr` argument is deprecated, use `learning_rate` instead.\n",
            "  super(Adam, self).__init__(name, **kwargs)\n"
          ]
        }
      ]
    },
    {
      "cell_type": "code",
      "metadata": {
        "colab": {
          "base_uri": "https://localhost:8080/"
        },
        "id": "xswJlxd-1xmx",
        "outputId": "9d4fb5c3-f7b7-484d-eea8-7cb9dc960b70"
      },
      "source": [
        "model.summary()"
      ],
      "execution_count": 30,
      "outputs": [
        {
          "output_type": "stream",
          "name": "stdout",
          "text": [
            "Model: \"sequential\"\n",
            "_________________________________________________________________\n",
            " Layer (type)                Output Shape              Param #   \n",
            "=================================================================\n",
            " conv2d (Conv2D)             (None, 48, 48, 100)       2800      \n",
            "                                                                 \n",
            " batch_normalization (BatchN  (None, 48, 48, 100)      400       \n",
            " ormalization)                                                   \n",
            "                                                                 \n",
            " max_pooling2d (MaxPooling2D  (None, 24, 24, 100)      0         \n",
            " )                                                               \n",
            "                                                                 \n",
            " conv2d_1 (Conv2D)           (None, 12, 12, 256)       102656    \n",
            "                                                                 \n",
            " batch_normalization_1 (Batc  (None, 12, 12, 256)      1024      \n",
            " hNormalization)                                                 \n",
            "                                                                 \n",
            " max_pooling2d_1 (MaxPooling  (None, 5, 5, 256)        0         \n",
            " 2D)                                                             \n",
            "                                                                 \n",
            " conv2d_2 (Conv2D)           (None, 5, 5, 384)         393600    \n",
            "                                                                 \n",
            " batch_normalization_2 (Batc  (None, 5, 5, 384)        1536      \n",
            " hNormalization)                                                 \n",
            "                                                                 \n",
            " conv2d_3 (Conv2D)           (None, 5, 5, 384)         147840    \n",
            "                                                                 \n",
            " batch_normalization_3 (Batc  (None, 5, 5, 384)        1536      \n",
            " hNormalization)                                                 \n",
            "                                                                 \n",
            " conv2d_4 (Conv2D)           (None, 5, 5, 256)         98560     \n",
            "                                                                 \n",
            " batch_normalization_4 (Batc  (None, 5, 5, 256)        1024      \n",
            " hNormalization)                                                 \n",
            "                                                                 \n",
            " max_pooling2d_2 (MaxPooling  (None, 2, 2, 256)        0         \n",
            " 2D)                                                             \n",
            "                                                                 \n",
            " flatten (Flatten)           (None, 1024)              0         \n",
            "                                                                 \n",
            " dense (Dense)               (None, 9216)              9446400   \n",
            "                                                                 \n",
            " dense_1 (Dense)             (None, 4096)              37752832  \n",
            "                                                                 \n",
            " dropout (Dropout)           (None, 4096)              0         \n",
            "                                                                 \n",
            " dense_2 (Dense)             (None, 4096)              16781312  \n",
            "                                                                 \n",
            " dropout_1 (Dropout)         (None, 4096)              0         \n",
            "                                                                 \n",
            " dense_3 (Dense)             (None, 2)                 8194      \n",
            "                                                                 \n",
            "=================================================================\n",
            "Total params: 64,739,714\n",
            "Trainable params: 64,736,954\n",
            "Non-trainable params: 2,760\n",
            "_________________________________________________________________\n"
          ]
        }
      ]
    },
    {
      "cell_type": "code",
      "metadata": {
        "colab": {
          "base_uri": "https://localhost:8080/"
        },
        "id": "eN_rlEMj1086",
        "outputId": "6d09511a-9b5f-4e04-c5b9-868cdb742822"
      },
      "source": [
        "history=model.fit(X_train,y_train, validation_data=(X_test, y_test),epochs=20)"
      ],
      "execution_count": 31,
      "outputs": [
        {
          "output_type": "stream",
          "name": "stdout",
          "text": [
            "Epoch 1/20\n",
            "809/809 [==============================] - 821s 1s/step - loss: 0.5345 - accuracy: 0.7640 - recall: 0.7453 - precision: 0.7418 - val_loss: 0.4216 - val_accuracy: 0.8171 - val_recall: 0.8135 - val_precision: 0.8194\n",
            "Epoch 2/20\n",
            "809/809 [==============================] - 820s 1s/step - loss: 0.4555 - accuracy: 0.8094 - recall: 0.8035 - precision: 0.8012 - val_loss: 0.4049 - val_accuracy: 0.8271 - val_recall: 0.8231 - val_precision: 0.8299\n",
            "Epoch 3/20\n",
            "809/809 [==============================] - 823s 1s/step - loss: 0.4354 - accuracy: 0.8160 - recall: 0.8097 - precision: 0.8103 - val_loss: 0.3945 - val_accuracy: 0.8316 - val_recall: 0.8309 - val_precision: 0.8341\n",
            "Epoch 4/20\n",
            "809/809 [==============================] - 821s 1s/step - loss: 0.4137 - accuracy: 0.8264 - recall: 0.8224 - precision: 0.8202 - val_loss: 0.3885 - val_accuracy: 0.8352 - val_recall: 0.8336 - val_precision: 0.8377\n",
            "Epoch 5/20\n",
            "809/809 [==============================] - 812s 1s/step - loss: 0.4074 - accuracy: 0.8275 - recall: 0.8243 - precision: 0.8239 - val_loss: 0.3820 - val_accuracy: 0.8394 - val_recall: 0.8377 - val_precision: 0.8410\n",
            "Epoch 6/20\n",
            "809/809 [==============================] - 816s 1s/step - loss: 0.4014 - accuracy: 0.8303 - recall: 0.8259 - precision: 0.8278 - val_loss: 0.3795 - val_accuracy: 0.8435 - val_recall: 0.8406 - val_precision: 0.8429\n",
            "Epoch 7/20\n",
            "809/809 [==============================] - 811s 1s/step - loss: 0.3919 - accuracy: 0.8356 - recall: 0.8343 - precision: 0.8326 - val_loss: 0.3756 - val_accuracy: 0.8414 - val_recall: 0.8401 - val_precision: 0.8426\n",
            "Epoch 8/20\n",
            "809/809 [==============================] - 821s 1s/step - loss: 0.3863 - accuracy: 0.8383 - recall: 0.8341 - precision: 0.8350 - val_loss: 0.3724 - val_accuracy: 0.8454 - val_recall: 0.8432 - val_precision: 0.8457\n",
            "Epoch 9/20\n",
            "809/809 [==============================] - 821s 1s/step - loss: 0.3790 - accuracy: 0.8411 - recall: 0.8377 - precision: 0.8380 - val_loss: 0.3697 - val_accuracy: 0.8459 - val_recall: 0.8440 - val_precision: 0.8468\n",
            "Epoch 10/20\n",
            "809/809 [==============================] - 836s 1s/step - loss: 0.3726 - accuracy: 0.8429 - recall: 0.8413 - precision: 0.8411 - val_loss: 0.3680 - val_accuracy: 0.8463 - val_recall: 0.8454 - val_precision: 0.8466\n",
            "Epoch 11/20\n",
            "809/809 [==============================] - 842s 1s/step - loss: 0.3670 - accuracy: 0.8429 - recall: 0.8422 - precision: 0.8415 - val_loss: 0.3684 - val_accuracy: 0.8469 - val_recall: 0.8469 - val_precision: 0.8473\n",
            "Epoch 12/20\n",
            "809/809 [==============================] - 829s 1s/step - loss: 0.3642 - accuracy: 0.8455 - recall: 0.8444 - precision: 0.8445 - val_loss: 0.3660 - val_accuracy: 0.8485 - val_recall: 0.8460 - val_precision: 0.8493\n",
            "Epoch 13/20\n",
            "809/809 [==============================] - 825s 1s/step - loss: 0.3584 - accuracy: 0.8499 - recall: 0.8478 - precision: 0.8469 - val_loss: 0.3643 - val_accuracy: 0.8489 - val_recall: 0.8472 - val_precision: 0.8496\n",
            "Epoch 14/20\n",
            "809/809 [==============================] - 816s 1s/step - loss: 0.3512 - accuracy: 0.8519 - recall: 0.8496 - precision: 0.8503 - val_loss: 0.3682 - val_accuracy: 0.8483 - val_recall: 0.8463 - val_precision: 0.8493\n",
            "Epoch 15/20\n",
            "809/809 [==============================] - 819s 1s/step - loss: 0.3495 - accuracy: 0.8543 - recall: 0.8531 - precision: 0.8524 - val_loss: 0.3632 - val_accuracy: 0.8502 - val_recall: 0.8476 - val_precision: 0.8512\n",
            "Epoch 16/20\n",
            "809/809 [==============================] - 833s 1s/step - loss: 0.3481 - accuracy: 0.8540 - recall: 0.8534 - precision: 0.8522 - val_loss: 0.3617 - val_accuracy: 0.8499 - val_recall: 0.8469 - val_precision: 0.8525\n",
            "Epoch 17/20\n",
            "809/809 [==============================] - 833s 1s/step - loss: 0.3403 - accuracy: 0.8578 - recall: 0.8563 - precision: 0.8552 - val_loss: 0.3625 - val_accuracy: 0.8499 - val_recall: 0.8485 - val_precision: 0.8510\n",
            "Epoch 18/20\n",
            "809/809 [==============================] - 813s 1s/step - loss: 0.3362 - accuracy: 0.8597 - recall: 0.8565 - precision: 0.8576 - val_loss: 0.3611 - val_accuracy: 0.8489 - val_recall: 0.8488 - val_precision: 0.8502\n",
            "Epoch 19/20\n",
            "809/809 [==============================] - 825s 1s/step - loss: 0.3310 - accuracy: 0.8614 - recall: 0.8597 - precision: 0.8604 - val_loss: 0.3616 - val_accuracy: 0.8500 - val_recall: 0.8483 - val_precision: 0.8532\n",
            "Epoch 20/20\n",
            "809/809 [==============================] - 831s 1s/step - loss: 0.3267 - accuracy: 0.8637 - recall: 0.8603 - precision: 0.8617 - val_loss: 0.3646 - val_accuracy: 0.8502 - val_recall: 0.8496 - val_precision: 0.8511\n"
          ]
        }
      ]
    },
    {
      "cell_type": "code",
      "metadata": {
        "colab": {
          "base_uri": "https://localhost:8080/"
        },
        "id": "mHSg7ucS0_nd",
        "outputId": "50957fdd-d5de-4150-b240-0677f312b472"
      },
      "source": [
        "e=model.evaluate(X_test,y_test)"
      ],
      "execution_count": 32,
      "outputs": [
        {
          "output_type": "stream",
          "name": "stdout",
          "text": [
            "203/203 [==============================] - 41s 201ms/step - loss: 0.3646 - accuracy: 0.8502 - recall: 0.8496 - precision: 0.8511\n"
          ]
        }
      ]
    },
    {
      "cell_type": "code",
      "metadata": {
        "colab": {
          "base_uri": "https://localhost:8080/"
        },
        "id": "HaDmJrCT1dbU",
        "outputId": "2a1ec957-408a-455b-8889-8700b7a796c8"
      },
      "source": [
        "print(e[0])"
      ],
      "execution_count": 33,
      "outputs": [
        {
          "output_type": "stream",
          "name": "stdout",
          "text": [
            "0.3646397292613983\n"
          ]
        }
      ]
    },
    {
      "cell_type": "code",
      "metadata": {
        "colab": {
          "base_uri": "https://localhost:8080/",
          "height": 295
        },
        "id": "-MsaJW6L1g9l",
        "outputId": "01f664b7-6841-4672-eda9-66ea2b7f020c"
      },
      "source": [
        "import matplotlib.pyplot as plt\n",
        "\n",
        "#plotting the Accuracy of test and training sets\n",
        "plt.plot(history.history['accuracy'])\n",
        "plt.plot(history.history['val_accuracy'])\n",
        "plt.title('Model Accuracy')\n",
        "plt.ylabel('accuracy')\n",
        "plt.xlabel('epoch')\n",
        "plt.legend(['train', 'test'], loc='upper left')\n",
        "plt.show()"
      ],
      "execution_count": 34,
      "outputs": [
        {
          "output_type": "display_data",
          "data": {
            "image/png": "[encoded data removed]",
            "text/plain": [
              "<Figure size 432x288 with 1 Axes>"
            ]
          },
          "metadata": {
            "needs_background": "light"
          }
        }
      ]
    },
    {
      "cell_type": "code",
      "metadata": {
        "colab": {
          "base_uri": "https://localhost:8080/",
          "height": 295
        },
        "id": "HqjCRxC71mfq",
        "outputId": "7374b4ef-132a-4271-c397-1c1b5ba0df0a"
      },
      "source": [
        "#plotting the loss of test and training sets\n",
        "plt.plot(history.history['loss'])\n",
        "plt.plot(history.history['val_loss'])\n",
        "plt.title('Model Loss')\n",
        "plt.ylabel('loss')\n",
        "plt.xlabel('epoch')\n",
        "plt.legend(['train', 'test'], loc='upper left')\n",
        "plt.show()"
      ],
      "execution_count": 35,
      "outputs": [
        {
          "output_type": "display_data",
          "data": {
            "image/png": "[encoded data removed]",
            "text/plain": [
              "<Figure size 432x288 with 1 Axes>"
            ]
          },
          "metadata": {
            "needs_background": "light"
          }
        }
      ]
    },
    {
      "cell_type": "code",
      "metadata": {
        "id": "fk_5BQ_01qdR"
      },
      "source": [
        "y_pred=model.predict(X_test)"
      ],
      "execution_count": 36,
      "outputs": []
    },
    {
      "cell_type": "code",
      "metadata": {
        "colab": {
          "base_uri": "https://localhost:8080/"
        },
        "id": "U1QknC941459",
        "outputId": "15e0cd3d-ca9e-4d1a-ffa6-0ac5e69343d9"
      },
      "source": [
        "y_pred[21]"
      ],
      "execution_count": 37,
      "outputs": [
        {
          "output_type": "execute_result",
          "data": {
            "text/plain": [
              "array([0.23759884, 0.7810675 ], dtype=float32)"
            ]
          },
          "metadata": {},
          "execution_count": 37
        }
      ]
    },
    {
      "cell_type": "code",
      "metadata": {
        "colab": {
          "base_uri": "https://localhost:8080/"
        },
        "id": "1nZr8tnP2cHu",
        "outputId": "794528fd-057a-4f86-a018-f81db1332384"
      },
      "source": [
        "y_test[21]"
      ],
      "execution_count": 38,
      "outputs": [
        {
          "output_type": "execute_result",
          "data": {
            "text/plain": [
              "array([0., 1.], dtype=float32)"
            ]
          },
          "metadata": {},
          "execution_count": 38
        }
      ]
    },
    {
      "cell_type": "code",
      "metadata": {
        "id": "QHA8FtnA2dJV"
      },
      "source": [
        "Y_pred=[]\n",
        "for i in y_pred:\n",
        "    if i[0]>i[1]:\n",
        "        Y_pred.append(0)\n",
        "    else:\n",
        "        Y_pred.append(1)"
      ],
      "execution_count": 39,
      "outputs": []
    },
    {
      "cell_type": "code",
      "metadata": {
        "id": "DLsP8Nqf2gtp"
      },
      "source": [
        "Y_test=[]\n",
        "for i in y_test:\n",
        "    if i[0]>i[1]:\n",
        "        Y_test.append(0)\n",
        "    else:\n",
        "        Y_test.append(1)"
      ],
      "execution_count": 40,
      "outputs": []
    },
    {
      "cell_type": "code",
      "metadata": {
        "colab": {
          "base_uri": "https://localhost:8080/"
        },
        "id": "9WQpnyZP2keK",
        "outputId": "e50db070-19b5-4a2f-cb56-7f56bb0644a3"
      },
      "source": [
        "Y_pred[0]"
      ],
      "execution_count": 41,
      "outputs": [
        {
          "output_type": "execute_result",
          "data": {
            "text/plain": [
              "1"
            ]
          },
          "metadata": {},
          "execution_count": 41
        }
      ]
    },
    {
      "cell_type": "code",
      "metadata": {
        "colab": {
          "base_uri": "https://localhost:8080/"
        },
        "id": "m8X1NiFU2lj0",
        "outputId": "ea860deb-563e-4a58-82f7-8e92326fdd3b"
      },
      "source": [
        "Y_test[0]"
      ],
      "execution_count": 42,
      "outputs": [
        {
          "output_type": "execute_result",
          "data": {
            "text/plain": [
              "1"
            ]
          },
          "metadata": {},
          "execution_count": 42
        }
      ]
    },
    {
      "cell_type": "code",
      "metadata": {
        "colab": {
          "base_uri": "https://localhost:8080/"
        },
        "id": "Du2LbBdf2n0L",
        "outputId": "0a792305-ffa7-44e5-aac1-150044e53f70"
      },
      "source": [
        "from sklearn.metrics import classification_report, confusion_matrix\n",
        "print('Confusion Matrix')\n",
        "print(confusion_matrix(Y_test, Y_pred))\n",
        "print('Classification Report')\n",
        "print(classification_report(Y_test, Y_pred, target_names=['IDC(-)','IDC(+)']))"
      ],
      "execution_count": 43,
      "outputs": [
        {
          "output_type": "stream",
          "name": "stdout",
          "text": [
            "Confusion Matrix\n",
            "[[2730  510]\n",
            " [ 459 2769]]\n",
            "Classification Report\n",
            "              precision    recall  f1-score   support\n",
            "\n",
            "      IDC(-)       0.86      0.84      0.85      3240\n",
            "      IDC(+)       0.84      0.86      0.85      3228\n",
            "\n",
            "    accuracy                           0.85      6468\n",
            "   macro avg       0.85      0.85      0.85      6468\n",
            "weighted avg       0.85      0.85      0.85      6468\n",
            "\n"
          ]
        }
      ]
    }
  ]
}