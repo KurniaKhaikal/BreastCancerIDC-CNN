{
  "nbformat": 4,
  "nbformat_minor": 0,
  "metadata": {
    "colab": {
      "name": "NewS4",
      "provenance": [],
      "collapsed_sections": [],
      "include_colab_link": true
    },
    "kernelspec": {
      "name": "python3",
      "display_name": "Python 3"
    },
    "language_info": {
      "name": "python"
    }
  },
  "cells": [
    {
      "cell_type": "markdown",
      "metadata": {
        "id": "view-in-github",
        "colab_type": "text"
      },
      "source": [
        "<a href=\"https://colab.research.google.com/github/KurniaKhaikal/BreastCancerIDC-CNN/blob/khaikal/NewS4.ipynb\" target=\"_parent\"><img src=\"https://colab.research.google.com/assets/colab-badge.svg\" alt=\"Open In Colab\"/></a>"
      ]
    },
    {
      "cell_type": "code",
      "metadata": {
        "id": "DG4wHBH7K71N"
      },
      "source": [
        "# Tulis Program Anda Disini!\n",
        "import pandas as pd\n",
        "import numpy as np\n",
        "import os\n",
        "from glob import glob\n",
        "import random\n",
        "import matplotlib.pylab as plt"
      ],
      "execution_count": 1,
      "outputs": []
    },
    {
      "cell_type": "code",
      "metadata": {
        "id": "Sqq81nf5Sl3D"
      },
      "source": [
        "!mkdir ~/.kaggle\n",
        "!touch ~/.kaggle/kaggle.json\n",
        "\n",
        "api_token = {\"username\":\"khaikal\",\"key\":\"9e492a7553b8e713debda6f4f6810151\"}\n",
        "\n",
        "import json\n",
        "\n",
        "with open('/root/.kaggle/kaggle.json', 'w') as file:\n",
        "    json.dump(api_token, file)\n",
        "\n",
        "!chmod 600 ~/.kaggle/kaggle.json"
      ],
      "execution_count": 2,
      "outputs": []
    },
    {
      "cell_type": "code",
      "metadata": {
        "colab": {
          "base_uri": "https://localhost:8080/"
        },
        "id": "4NXRZABVSrFN",
        "outputId": "ed4632b2-0376-4cca-b0bd-5cd2a5201362"
      },
      "source": [
        "!kaggle datasets download -d paultimothymooney/breast-histopathology-images"
      ],
      "execution_count": 3,
      "outputs": [
        {
          "output_type": "stream",
          "name": "stdout",
          "text": [
            "Downloading breast-histopathology-images.zip to /content\n",
            "100% 3.10G/3.10G [00:49<00:00, 34.0MB/s]\n",
            "100% 3.10G/3.10G [00:49<00:00, 67.1MB/s]\n"
          ]
        }
      ]
    },
    {
      "cell_type": "code",
      "metadata": {
        "id": "W1YQjSTiS5kT"
      },
      "source": [
        "import os\n",
        "import zipfile\n",
        "\n",
        "local_zip = '/content/breast-histopathology-images.zip'\n",
        "zip_ref = zipfile.ZipFile(local_zip, 'r')\n",
        "zip_ref.extractall('/content/input')\n",
        "zip_ref.close()"
      ],
      "execution_count": 4,
      "outputs": []
    },
    {
      "cell_type": "code",
      "metadata": {
        "colab": {
          "base_uri": "https://localhost:8080/"
        },
        "id": "Ml0CKuRjS_VE",
        "outputId": "49247a41-027c-45c8-fec4-6734e7c7dfe7"
      },
      "source": [
        "mypaths=[]\n",
        "for name in glob('/content/input/IDC_regular_ps50_idx5/*',recursive=True):\n",
        "    mypaths.append(name)\n",
        "print(mypaths[:5])"
      ],
      "execution_count": 5,
      "outputs": [
        {
          "output_type": "stream",
          "name": "stdout",
          "text": [
            "['/content/input/IDC_regular_ps50_idx5/12900', '/content/input/IDC_regular_ps50_idx5/8914', '/content/input/IDC_regular_ps50_idx5/12819', '/content/input/IDC_regular_ps50_idx5/12933', '/content/input/IDC_regular_ps50_idx5/13591']\n"
          ]
        }
      ]
    },
    {
      "cell_type": "code",
      "metadata": {
        "id": "nHL9sE9qU5gQ"
      },
      "source": [
        "mp=mypaths[:10]\n",
        "imagePatches=[]\n",
        "for i in mp:\n",
        "    imagePatches+=glob(i+'/*/*.png', recursive=True)"
      ],
      "execution_count": 11,
      "outputs": []
    },
    {
      "cell_type": "code",
      "metadata": {
        "colab": {
          "base_uri": "https://localhost:8080/"
        },
        "id": "9nbwekBSU-57",
        "outputId": "bdf193c9-27f2-4e29-ba64-08e89e7c77e3"
      },
      "source": [
        "print('total no. of images selected from total images is '+str(len(imagePatches)))"
      ],
      "execution_count": 12,
      "outputs": [
        {
          "output_type": "stream",
          "name": "stdout",
          "text": [
            "total no. of images selected from total images is 10247\n"
          ]
        }
      ]
    },
    {
      "cell_type": "code",
      "metadata": {
        "id": "b2o1tDwVVL48"
      },
      "source": [
        "class0 = [] # 0 = no cancer\n",
        "class1 = [] # 1 = cancer\n",
        "\n",
        "for filename in imagePatches:\n",
        "    if filename.endswith(\"class0.png\"):\n",
        "         class0.append(filename)\n",
        "    else:\n",
        "        class1.append(filename)"
      ],
      "execution_count": 13,
      "outputs": []
    },
    {
      "cell_type": "code",
      "metadata": {
        "colab": {
          "base_uri": "https://localhost:8080/"
        },
        "id": "X5U07h_RVP_M",
        "outputId": "df6cd69b-f825-4110-cd61-70a2e7863e39"
      },
      "source": [
        "print('Among them, '+str(len(class0))+' is clss0 and '+str(len(class1))+' is class1')"
      ],
      "execution_count": 14,
      "outputs": [
        {
          "output_type": "stream",
          "name": "stdout",
          "text": [
            "Among them, 8467 is clss0 and 1780 is class1\n"
          ]
        }
      ]
    },
    {
      "cell_type": "code",
      "metadata": {
        "colab": {
          "base_uri": "https://localhost:8080/"
        },
        "id": "j0_SFR8AVTdB",
        "outputId": "667a2899-a6f4-406a-c8eb-4ba42674cdff"
      },
      "source": [
        "sampled_class0 = random.sample(class0, len(class0))\n",
        "sampled_class1 = random.sample(class1, len(class1))\n",
        "len(sampled_class0)"
      ],
      "execution_count": 22,
      "outputs": [
        {
          "output_type": "execute_result",
          "data": {
            "text/plain": [
              "8467"
            ]
          },
          "metadata": {},
          "execution_count": 22
        }
      ]
    },
    {
      "cell_type": "code",
      "metadata": {
        "id": "WSbbm0_EVc2w"
      },
      "source": [
        "from matplotlib.image import imread\n",
        "import cv2\n",
        "\n",
        "def get_image_arrays(data, label):\n",
        "    img_arrays = []\n",
        "    for i in data:\n",
        "      if i.endswith('.png'):\n",
        "        img = cv2.imread(i ,cv2.IMREAD_COLOR)\n",
        "        img_sized = cv2.resize(img, (50, 50), interpolation=cv2.INTER_LINEAR)\n",
        "        img_re=img_sized/255.0\n",
        "        img_arrays.append([img_re, label])\n",
        "    return img_arrays"
      ],
      "execution_count": 23,
      "outputs": []
    },
    {
      "cell_type": "code",
      "metadata": {
        "colab": {
          "base_uri": "https://localhost:8080/"
        },
        "id": "vS8ehA0QVoQX",
        "outputId": "edcf0407-b007-49c0-a8fb-3ddc161e6678"
      },
      "source": [
        "class0_array = get_image_arrays(sampled_class0, 0)\n",
        "class1_array = get_image_arrays(sampled_class1, 1)\n",
        "print('done')"
      ],
      "execution_count": 24,
      "outputs": [
        {
          "output_type": "stream",
          "name": "stdout",
          "text": [
            "done\n"
          ]
        }
      ]
    },
    {
      "cell_type": "code",
      "metadata": {
        "colab": {
          "base_uri": "https://localhost:8080/"
        },
        "id": "_gQ_FnPyVrr_",
        "outputId": "ccc87ad0-f9b5-4785-de37-0794bb88104f"
      },
      "source": [
        "print(len(class0_array))\n",
        "print(len(class1_array))"
      ],
      "execution_count": 25,
      "outputs": [
        {
          "output_type": "stream",
          "name": "stdout",
          "text": [
            "8467\n",
            "1780\n"
          ]
        }
      ]
    },
    {
      "cell_type": "code",
      "metadata": {
        "colab": {
          "base_uri": "https://localhost:8080/",
          "height": 285
        },
        "id": "zKBswDdeVuxp",
        "outputId": "a67208de-6495-4965-a1fc-b365f9ff1103"
      },
      "source": [
        "plt.imshow(class1_array[10][0])"
      ],
      "execution_count": 26,
      "outputs": [
        {
          "output_type": "execute_result",
          "data": {
            "text/plain": [
              "<matplotlib.image.AxesImage at 0x7fa59bc4d710>"
            ]
          },
          "metadata": {},
          "execution_count": 26
        },
        {
          "output_type": "display_data",
          "data": {
            "image/png": "[encoded data removed]",
            "text/plain": [
              "<Figure size 432x288 with 1 Axes>"
            ]
          },
          "metadata": {
            "needs_background": "light"
          }
        }
      ]
    },
    {
      "cell_type": "code",
      "metadata": {
        "colab": {
          "base_uri": "https://localhost:8080/"
        },
        "id": "JxDjO5ISWClW",
        "outputId": "6983fb99-0cad-4a9b-b5c3-6a1874e81c7f"
      },
      "source": [
        "combined_data = np.concatenate((class0_array, class1_array))"
      ],
      "execution_count": 27,
      "outputs": [
        {
          "output_type": "stream",
          "name": "stderr",
          "text": [
            "<string>:6: VisibleDeprecationWarning: Creating an ndarray from ragged nested sequences (which is a list-or-tuple of lists-or-tuples-or ndarrays with different lengths or shapes) is deprecated. If you meant to do this, you must specify 'dtype=object' when creating the ndarray\n"
          ]
        }
      ]
    },
    {
      "cell_type": "code",
      "metadata": {
        "id": "LlzB7qXzWFMN"
      },
      "source": [
        "X = []\n",
        "y = []\n",
        "\n",
        "for features,label in combined_data:\n",
        "    X.append(features)\n",
        "    y.append(label)"
      ],
      "execution_count": 28,
      "outputs": []
    },
    {
      "cell_type": "code",
      "metadata": {
        "id": "YAgNyke9WHdQ"
      },
      "source": [
        "X = np.array(X).reshape(-1, 50, 50, 3)"
      ],
      "execution_count": 29,
      "outputs": []
    },
    {
      "cell_type": "code",
      "metadata": {
        "colab": {
          "base_uri": "https://localhost:8080/"
        },
        "id": "q27HXQcWWK6p",
        "outputId": "11163df2-e24b-4ecc-aa2e-d6ee63612f22"
      },
      "source": [
        "from sklearn.model_selection import train_test_split\n",
        "from keras.utils.np_utils import to_categorical\n",
        "\n",
        "X_train, X_test, y_train, y_test = train_test_split(X, y, test_size=0.2, random_state=42)\n",
        "y_train = to_categorical(y_train)\n",
        "y_test = to_categorical(y_test)\n",
        "print(X_train.shape, X_test.shape, y_train.shape, y_test.shape)"
      ],
      "execution_count": 31,
      "outputs": [
        {
          "output_type": "stream",
          "name": "stdout",
          "text": [
            "(8197, 50, 50, 3) (2050, 50, 50, 3) (8197, 2) (2050, 2)\n"
          ]
        }
      ]
    },
    {
      "cell_type": "code",
      "metadata": {
        "id": "BeqVVZyAWaIC"
      },
      "source": [
        "import tensorflow as tf\n",
        "from tensorflow import keras"
      ],
      "execution_count": 32,
      "outputs": []
    },
    {
      "cell_type": "code",
      "metadata": {
        "id": "YkdNKLc-WcY8"
      },
      "source": [
        "model = keras.models.Sequential([\n",
        "    keras.layers.Conv2D(filters=100, kernel_size=(3,3), strides=(1,1), activation='relu', input_shape=(50,50,3)),\n",
        "    keras.layers.BatchNormalization(),\n",
        "    keras.layers.MaxPool2D(pool_size=(2,2), strides=(2,2)),\n",
        "    keras.layers.Conv2D(filters=256, kernel_size=(2,2), strides=(2,2), activation='relu', padding=\"same\"),\n",
        "    keras.layers.BatchNormalization(),\n",
        "    keras.layers.MaxPool2D(pool_size=(3,3), strides=(2,2)),\n",
        "    keras.layers.Conv2D(filters=384, kernel_size=(2,2), strides=(1,1), activation='relu', padding=\"same\"),\n",
        "    keras.layers.BatchNormalization(),\n",
        "    keras.layers.Conv2D(filters=384, kernel_size=(1,1), strides=(1,1), activation='relu', padding=\"same\"),\n",
        "    keras.layers.BatchNormalization(),\n",
        "    keras.layers.Conv2D(filters=256, kernel_size=(1,1), strides=(1,1), activation='relu', padding=\"same\"),\n",
        "    keras.layers.BatchNormalization(),\n",
        "    keras.layers.MaxPool2D(pool_size=(3,3), strides=(2,2)),\n",
        "    keras.layers.Flatten(),\n",
        "    keras.layers.Dense(9216,input_shape=(12544,), activation='relu'),\n",
        "    keras.layers.Dense(4096, activation='relu'),\n",
        "    keras.layers.Dropout(0.5),\n",
        "    keras.layers.Dense(4096, activation='relu'),\n",
        "    keras.layers.Dropout(0.5),\n",
        "    keras.layers.Dense(2, activation='sigmoid')\n",
        "])"
      ],
      "execution_count": 33,
      "outputs": []
    },
    {
      "cell_type": "code",
      "metadata": {
        "colab": {
          "base_uri": "https://localhost:8080/"
        },
        "id": "yM-5npXKWfXy",
        "outputId": "32703491-b405-468a-b316-eadc404547e5"
      },
      "source": [
        "model.compile(\n",
        "    optimizer=tf.optimizers.Adam(lr=0.000001),\n",
        "    loss='binary_crossentropy',\n",
        "    metrics=['accuracy','Recall','Precision']\n",
        ")"
      ],
      "execution_count": 34,
      "outputs": [
        {
          "output_type": "stream",
          "name": "stderr",
          "text": [
            "/usr/local/lib/python3.7/dist-packages/keras/optimizer_v2/adam.py:105: UserWarning: The `lr` argument is deprecated, use `learning_rate` instead.\n",
            "  super(Adam, self).__init__(name, **kwargs)\n"
          ]
        }
      ]
    },
    {
      "cell_type": "code",
      "metadata": {
        "colab": {
          "base_uri": "https://localhost:8080/"
        },
        "id": "UiGzsjn5Wh4q",
        "outputId": "cffbf8bf-1aa8-42e2-86dd-70fe17292c86"
      },
      "source": [
        "model.summary()"
      ],
      "execution_count": 35,
      "outputs": [
        {
          "output_type": "stream",
          "name": "stdout",
          "text": [
            "Model: \"sequential\"\n",
            "_________________________________________________________________\n",
            " Layer (type)                Output Shape              Param #   \n",
            "=================================================================\n",
            " conv2d (Conv2D)             (None, 48, 48, 100)       2800      \n",
            "                                                                 \n",
            " batch_normalization (BatchN  (None, 48, 48, 100)      400       \n",
            " ormalization)                                                   \n",
            "                                                                 \n",
            " max_pooling2d (MaxPooling2D  (None, 24, 24, 100)      0         \n",
            " )                                                               \n",
            "                                                                 \n",
            " conv2d_1 (Conv2D)           (None, 12, 12, 256)       102656    \n",
            "                                                                 \n",
            " batch_normalization_1 (Batc  (None, 12, 12, 256)      1024      \n",
            " hNormalization)                                                 \n",
            "                                                                 \n",
            " max_pooling2d_1 (MaxPooling  (None, 5, 5, 256)        0         \n",
            " 2D)                                                             \n",
            "                                                                 \n",
            " conv2d_2 (Conv2D)           (None, 5, 5, 384)         393600    \n",
            "                                                                 \n",
            " batch_normalization_2 (Batc  (None, 5, 5, 384)        1536      \n",
            " hNormalization)                                                 \n",
            "                                                                 \n",
            " conv2d_3 (Conv2D)           (None, 5, 5, 384)         147840    \n",
            "                                                                 \n",
            " batch_normalization_3 (Batc  (None, 5, 5, 384)        1536      \n",
            " hNormalization)                                                 \n",
            "                                                                 \n",
            " conv2d_4 (Conv2D)           (None, 5, 5, 256)         98560     \n",
            "                                                                 \n",
            " batch_normalization_4 (Batc  (None, 5, 5, 256)        1024      \n",
            " hNormalization)                                                 \n",
            "                                                                 \n",
            " max_pooling2d_2 (MaxPooling  (None, 2, 2, 256)        0         \n",
            " 2D)                                                             \n",
            "                                                                 \n",
            " flatten (Flatten)           (None, 1024)              0         \n",
            "                                                                 \n",
            " dense (Dense)               (None, 9216)              9446400   \n",
            "                                                                 \n",
            " dense_1 (Dense)             (None, 4096)              37752832  \n",
            "                                                                 \n",
            " dropout (Dropout)           (None, 4096)              0         \n",
            "                                                                 \n",
            " dense_2 (Dense)             (None, 4096)              16781312  \n",
            "                                                                 \n",
            " dropout_1 (Dropout)         (None, 4096)              0         \n",
            "                                                                 \n",
            " dense_3 (Dense)             (None, 2)                 8194      \n",
            "                                                                 \n",
            "=================================================================\n",
            "Total params: 64,739,714\n",
            "Trainable params: 64,736,954\n",
            "Non-trainable params: 2,760\n",
            "_________________________________________________________________\n"
          ]
        }
      ]
    },
    {
      "cell_type": "code",
      "metadata": {
        "colab": {
          "base_uri": "https://localhost:8080/"
        },
        "id": "7XEGohCZWkW3",
        "outputId": "f4601c35-f71a-4cd3-9f8b-62cde8fda46a"
      },
      "source": [
        "history=model.fit(X_train,y_train, validation_data=(X_test, y_test),epochs=50)"
      ],
      "execution_count": 37,
      "outputs": [
        {
          "output_type": "stream",
          "name": "stdout",
          "text": [
            "Epoch 1/50\n",
            "257/257 [==============================] - 308s 1s/step - loss: 0.3216 - accuracy: 0.8643 - recall: 0.8591 - precision: 0.8577 - val_loss: 0.2875 - val_accuracy: 0.8693 - val_recall: 0.8761 - val_precision: 0.8660\n",
            "Epoch 2/50\n",
            "257/257 [==============================] - 305s 1s/step - loss: 0.3070 - accuracy: 0.8717 - recall: 0.8651 - precision: 0.8643 - val_loss: 0.2832 - val_accuracy: 0.8732 - val_recall: 0.8780 - val_precision: 0.8691\n",
            "Epoch 3/50\n",
            "257/257 [==============================] - 305s 1s/step - loss: 0.2969 - accuracy: 0.8807 - recall: 0.8754 - precision: 0.8750 - val_loss: 0.2844 - val_accuracy: 0.8795 - val_recall: 0.8839 - val_precision: 0.8762\n",
            "Epoch 4/50\n",
            "257/257 [==============================] - 306s 1s/step - loss: 0.2888 - accuracy: 0.8813 - recall: 0.8769 - precision: 0.8795 - val_loss: 0.2783 - val_accuracy: 0.8800 - val_recall: 0.8815 - val_precision: 0.8776\n",
            "Epoch 5/50\n",
            "257/257 [==============================] - 309s 1s/step - loss: 0.2833 - accuracy: 0.8848 - recall: 0.8825 - precision: 0.8799 - val_loss: 0.2759 - val_accuracy: 0.8805 - val_recall: 0.8854 - val_precision: 0.8760\n",
            "Epoch 6/50\n",
            "257/257 [==============================] - 310s 1s/step - loss: 0.2796 - accuracy: 0.8840 - recall: 0.8804 - precision: 0.8796 - val_loss: 0.2744 - val_accuracy: 0.8829 - val_recall: 0.8839 - val_precision: 0.8839\n",
            "Epoch 7/50\n",
            "257/257 [==============================] - 309s 1s/step - loss: 0.2697 - accuracy: 0.8890 - recall: 0.8852 - precision: 0.8847 - val_loss: 0.2741 - val_accuracy: 0.8859 - val_recall: 0.8873 - val_precision: 0.8817\n",
            "Epoch 8/50\n",
            "257/257 [==============================] - 311s 1s/step - loss: 0.2707 - accuracy: 0.8897 - recall: 0.8841 - precision: 0.8869 - val_loss: 0.2720 - val_accuracy: 0.8863 - val_recall: 0.8898 - val_precision: 0.8812\n",
            "Epoch 9/50\n",
            "257/257 [==============================] - 305s 1s/step - loss: 0.2650 - accuracy: 0.8883 - recall: 0.8864 - precision: 0.8882 - val_loss: 0.2705 - val_accuracy: 0.8839 - val_recall: 0.8902 - val_precision: 0.8812\n",
            "Epoch 10/50\n",
            "257/257 [==============================] - 311s 1s/step - loss: 0.2622 - accuracy: 0.8944 - recall: 0.8898 - precision: 0.8877 - val_loss: 0.2691 - val_accuracy: 0.8878 - val_recall: 0.8912 - val_precision: 0.8830\n",
            "Epoch 11/50\n",
            "257/257 [==============================] - 311s 1s/step - loss: 0.2608 - accuracy: 0.8892 - recall: 0.8876 - precision: 0.8869 - val_loss: 0.2698 - val_accuracy: 0.8873 - val_recall: 0.8893 - val_precision: 0.8828\n",
            "Epoch 12/50\n",
            "257/257 [==============================] - 313s 1s/step - loss: 0.2527 - accuracy: 0.8956 - recall: 0.8906 - precision: 0.8913 - val_loss: 0.2692 - val_accuracy: 0.8868 - val_recall: 0.8922 - val_precision: 0.8853\n",
            "Epoch 13/50\n",
            "257/257 [==============================] - 313s 1s/step - loss: 0.2473 - accuracy: 0.9003 - recall: 0.8954 - precision: 0.8964 - val_loss: 0.2668 - val_accuracy: 0.8888 - val_recall: 0.8937 - val_precision: 0.8842\n",
            "Epoch 14/50\n",
            "257/257 [==============================] - 312s 1s/step - loss: 0.2456 - accuracy: 0.8996 - recall: 0.8989 - precision: 0.8990 - val_loss: 0.2665 - val_accuracy: 0.8898 - val_recall: 0.8917 - val_precision: 0.8861\n",
            "Epoch 15/50\n",
            "257/257 [==============================] - 313s 1s/step - loss: 0.2461 - accuracy: 0.9008 - recall: 0.8964 - precision: 0.8966 - val_loss: 0.2649 - val_accuracy: 0.8888 - val_recall: 0.8941 - val_precision: 0.8855\n",
            "Epoch 16/50\n",
            "257/257 [==============================] - 312s 1s/step - loss: 0.2367 - accuracy: 0.9044 - recall: 0.9009 - precision: 0.9040 - val_loss: 0.2660 - val_accuracy: 0.8893 - val_recall: 0.8917 - val_precision: 0.8865\n",
            "Epoch 17/50\n",
            "257/257 [==============================] - 310s 1s/step - loss: 0.2350 - accuracy: 0.9050 - recall: 0.9036 - precision: 0.9037 - val_loss: 0.2632 - val_accuracy: 0.8937 - val_recall: 0.8956 - val_precision: 0.8895\n",
            "Epoch 18/50\n",
            "257/257 [==============================] - 313s 1s/step - loss: 0.2326 - accuracy: 0.9057 - recall: 0.9039 - precision: 0.9049 - val_loss: 0.2623 - val_accuracy: 0.8932 - val_recall: 0.8956 - val_precision: 0.8900\n",
            "Epoch 19/50\n",
            "257/257 [==============================] - 312s 1s/step - loss: 0.2307 - accuracy: 0.9056 - recall: 0.9031 - precision: 0.9052 - val_loss: 0.2628 - val_accuracy: 0.8932 - val_recall: 0.8961 - val_precision: 0.8883\n",
            "Epoch 20/50\n",
            "257/257 [==============================] - 312s 1s/step - loss: 0.2261 - accuracy: 0.9070 - recall: 0.9066 - precision: 0.9061 - val_loss: 0.2614 - val_accuracy: 0.8946 - val_recall: 0.8951 - val_precision: 0.8925\n",
            "Epoch 21/50\n",
            "257/257 [==============================] - 308s 1s/step - loss: 0.2207 - accuracy: 0.9108 - recall: 0.9068 - precision: 0.9089 - val_loss: 0.2606 - val_accuracy: 0.8941 - val_recall: 0.8956 - val_precision: 0.8930\n",
            "Epoch 22/50\n",
            "257/257 [==============================] - 308s 1s/step - loss: 0.2212 - accuracy: 0.9128 - recall: 0.9101 - precision: 0.9110 - val_loss: 0.2599 - val_accuracy: 0.8976 - val_recall: 0.8976 - val_precision: 0.8936\n",
            "Epoch 23/50\n",
            "257/257 [==============================] - 309s 1s/step - loss: 0.2160 - accuracy: 0.9146 - recall: 0.9146 - precision: 0.9138 - val_loss: 0.2605 - val_accuracy: 0.8956 - val_recall: 0.8980 - val_precision: 0.8946\n",
            "Epoch 24/50\n",
            "257/257 [==============================] - 312s 1s/step - loss: 0.2091 - accuracy: 0.9192 - recall: 0.9181 - precision: 0.9156 - val_loss: 0.2596 - val_accuracy: 0.8976 - val_recall: 0.8990 - val_precision: 0.8968\n",
            "Epoch 25/50\n",
            "257/257 [==============================] - 313s 1s/step - loss: 0.2131 - accuracy: 0.9180 - recall: 0.9153 - precision: 0.9146 - val_loss: 0.2619 - val_accuracy: 0.8966 - val_recall: 0.8961 - val_precision: 0.8965\n",
            "Epoch 26/50\n",
            "257/257 [==============================] - 313s 1s/step - loss: 0.2070 - accuracy: 0.9175 - recall: 0.9164 - precision: 0.9167 - val_loss: 0.2606 - val_accuracy: 0.8971 - val_recall: 0.8980 - val_precision: 0.8954\n",
            "Epoch 27/50\n",
            "257/257 [==============================] - 313s 1s/step - loss: 0.2042 - accuracy: 0.9197 - recall: 0.9184 - precision: 0.9163 - val_loss: 0.2589 - val_accuracy: 0.8985 - val_recall: 0.9010 - val_precision: 0.8957\n",
            "Epoch 28/50\n",
            "257/257 [==============================] - 314s 1s/step - loss: 0.2007 - accuracy: 0.9203 - recall: 0.9162 - precision: 0.9178 - val_loss: 0.2598 - val_accuracy: 0.8995 - val_recall: 0.9005 - val_precision: 0.8987\n",
            "Epoch 29/50\n",
            "257/257 [==============================] - 313s 1s/step - loss: 0.1966 - accuracy: 0.9225 - recall: 0.9213 - precision: 0.9222 - val_loss: 0.2606 - val_accuracy: 0.8995 - val_recall: 0.9024 - val_precision: 0.8994\n",
            "Epoch 30/50\n",
            "257/257 [==============================] - 313s 1s/step - loss: 0.1929 - accuracy: 0.9257 - recall: 0.9228 - precision: 0.9218 - val_loss: 0.2596 - val_accuracy: 0.9000 - val_recall: 0.9010 - val_precision: 0.8992\n",
            "Epoch 31/50\n",
            "257/257 [==============================] - 317s 1s/step - loss: 0.1913 - accuracy: 0.9259 - recall: 0.9241 - precision: 0.9247 - val_loss: 0.2590 - val_accuracy: 0.9000 - val_recall: 0.8995 - val_precision: 0.8991\n",
            "Epoch 32/50\n",
            "257/257 [==============================] - 318s 1s/step - loss: 0.1854 - accuracy: 0.9294 - recall: 0.9269 - precision: 0.9251 - val_loss: 0.2613 - val_accuracy: 0.9000 - val_recall: 0.9010 - val_precision: 0.8988\n",
            "Epoch 33/50\n",
            "257/257 [==============================] - 312s 1s/step - loss: 0.1823 - accuracy: 0.9275 - recall: 0.9281 - precision: 0.9259 - val_loss: 0.2669 - val_accuracy: 0.8951 - val_recall: 0.8937 - val_precision: 0.8950\n",
            "Epoch 34/50\n",
            "257/257 [==============================] - 326s 1s/step - loss: 0.1789 - accuracy: 0.9299 - recall: 0.9300 - precision: 0.9271 - val_loss: 0.2622 - val_accuracy: 0.8990 - val_recall: 0.9010 - val_precision: 0.8997\n",
            "Epoch 35/50\n",
            "257/257 [==============================] - 307s 1s/step - loss: 0.1772 - accuracy: 0.9344 - recall: 0.9303 - precision: 0.9325 - val_loss: 0.2621 - val_accuracy: 0.9010 - val_recall: 0.9049 - val_precision: 0.9000\n",
            "Epoch 36/50\n",
            "257/257 [==============================] - 307s 1s/step - loss: 0.1729 - accuracy: 0.9318 - recall: 0.9327 - precision: 0.9314 - val_loss: 0.2642 - val_accuracy: 0.9015 - val_recall: 0.9034 - val_precision: 0.8999\n",
            "Epoch 37/50\n",
            "257/257 [==============================] - 306s 1s/step - loss: 0.1702 - accuracy: 0.9344 - recall: 0.9353 - precision: 0.9331 - val_loss: 0.2654 - val_accuracy: 0.8985 - val_recall: 0.9000 - val_precision: 0.8969\n",
            "Epoch 38/50\n",
            "257/257 [==============================] - 306s 1s/step - loss: 0.1621 - accuracy: 0.9406 - recall: 0.9372 - precision: 0.9393 - val_loss: 0.2677 - val_accuracy: 0.8990 - val_recall: 0.9024 - val_precision: 0.8976\n",
            "Epoch 39/50\n",
            "257/257 [==============================] - 306s 1s/step - loss: 0.1605 - accuracy: 0.9378 - recall: 0.9372 - precision: 0.9361 - val_loss: 0.2696 - val_accuracy: 0.8980 - val_recall: 0.9005 - val_precision: 0.8957\n",
            "Epoch 40/50\n",
            "257/257 [==============================] - 307s 1s/step - loss: 0.1601 - accuracy: 0.9417 - recall: 0.9394 - precision: 0.9381 - val_loss: 0.2669 - val_accuracy: 0.8995 - val_recall: 0.9015 - val_precision: 0.8975\n",
            "Epoch 41/50\n",
            "257/257 [==============================] - 307s 1s/step - loss: 0.1553 - accuracy: 0.9447 - recall: 0.9402 - precision: 0.9433 - val_loss: 0.2700 - val_accuracy: 0.8995 - val_recall: 0.9000 - val_precision: 0.8974\n",
            "Epoch 42/50\n",
            "257/257 [==============================] - 307s 1s/step - loss: 0.1513 - accuracy: 0.9433 - recall: 0.9392 - precision: 0.9415 - val_loss: 0.2729 - val_accuracy: 0.8990 - val_recall: 0.8995 - val_precision: 0.8973\n",
            "Epoch 43/50\n",
            "257/257 [==============================] - 308s 1s/step - loss: 0.1482 - accuracy: 0.9445 - recall: 0.9439 - precision: 0.9435 - val_loss: 0.2720 - val_accuracy: 0.8990 - val_recall: 0.9010 - val_precision: 0.8970\n",
            "Epoch 44/50\n",
            "257/257 [==============================] - 310s 1s/step - loss: 0.1468 - accuracy: 0.9468 - recall: 0.9442 - precision: 0.9437 - val_loss: 0.2750 - val_accuracy: 0.8985 - val_recall: 0.9015 - val_precision: 0.8936\n",
            "Epoch 45/50\n",
            "257/257 [==============================] - 311s 1s/step - loss: 0.1397 - accuracy: 0.9480 - recall: 0.9468 - precision: 0.9451 - val_loss: 0.2781 - val_accuracy: 0.8961 - val_recall: 0.8990 - val_precision: 0.8951\n",
            "Epoch 46/50\n",
            "257/257 [==============================] - 305s 1s/step - loss: 0.1369 - accuracy: 0.9501 - recall: 0.9490 - precision: 0.9483 - val_loss: 0.2856 - val_accuracy: 0.8976 - val_recall: 0.8985 - val_precision: 0.8968\n",
            "Epoch 47/50\n",
            "257/257 [==============================] - 306s 1s/step - loss: 0.1355 - accuracy: 0.9512 - recall: 0.9489 - precision: 0.9499 - val_loss: 0.2787 - val_accuracy: 0.8985 - val_recall: 0.8995 - val_precision: 0.8986\n",
            "Epoch 48/50\n",
            "257/257 [==============================] - 306s 1s/step - loss: 0.1318 - accuracy: 0.9527 - recall: 0.9503 - precision: 0.9522 - val_loss: 0.2827 - val_accuracy: 0.8995 - val_recall: 0.9020 - val_precision: 0.8971\n",
            "Epoch 49/50\n",
            "257/257 [==============================] - 313s 1s/step - loss: 0.1246 - accuracy: 0.9568 - recall: 0.9555 - precision: 0.9538 - val_loss: 0.2879 - val_accuracy: 0.8995 - val_recall: 0.9034 - val_precision: 0.8973\n",
            "Epoch 50/50\n",
            "257/257 [==============================] - 316s 1s/step - loss: 0.1273 - accuracy: 0.9517 - recall: 0.9508 - precision: 0.9510 - val_loss: 0.2852 - val_accuracy: 0.8985 - val_recall: 0.9010 - val_precision: 0.8979\n"
          ]
        }
      ]
    },
    {
      "cell_type": "code",
      "metadata": {
        "colab": {
          "base_uri": "https://localhost:8080/"
        },
        "id": "trRDLGeBW30X",
        "outputId": "4f51879c-0bd9-422a-a154-8d1016b19ac7"
      },
      "source": [
        "e=model.evaluate(X_test,y_test)"
      ],
      "execution_count": 38,
      "outputs": [
        {
          "output_type": "stream",
          "name": "stdout",
          "text": [
            "65/65 [==============================] - 12s 191ms/step - loss: 0.2852 - accuracy: 0.8985 - recall: 0.9010 - precision: 0.8979\n"
          ]
        }
      ]
    },
    {
      "cell_type": "code",
      "metadata": {
        "colab": {
          "base_uri": "https://localhost:8080/"
        },
        "id": "6hvvYgxvW_fp",
        "outputId": "b8c32bb5-cf50-4920-c6d2-011f587459ba"
      },
      "source": [
        "print(e[0])"
      ],
      "execution_count": 39,
      "outputs": [
        {
          "output_type": "stream",
          "name": "stdout",
          "text": [
            "0.28517454862594604\n"
          ]
        }
      ]
    },
    {
      "cell_type": "code",
      "metadata": {
        "colab": {
          "base_uri": "https://localhost:8080/",
          "height": 295
        },
        "id": "dvwNIcL0XAsY",
        "outputId": "f00770af-e8f8-4703-9669-0dc4014f87b6"
      },
      "source": [
        "import matplotlib.pyplot as plt\n",
        "\n",
        "#plotting the Accuracy of test and training sets\n",
        "plt.plot(history.history['accuracy'])\n",
        "plt.plot(history.history['val_accuracy'])\n",
        "plt.title('Model Accuracy')\n",
        "plt.ylabel('accuracy')\n",
        "plt.xlabel('epoch')\n",
        "plt.legend(['train', 'test'], loc='upper left')\n",
        "plt.show()"
      ],
      "execution_count": 40,
      "outputs": [
        {
          "output_type": "display_data",
          "data": {
            "image/png": "[encoded data removed]",
            "text/plain": [
              "<Figure size 432x288 with 1 Axes>"
            ]
          },
          "metadata": {
            "needs_background": "light"
          }
        }
      ]
    },
    {
      "cell_type": "code",
      "metadata": {
        "colab": {
          "base_uri": "https://localhost:8080/",
          "height": 295
        },
        "id": "bgMp8tEGXDj1",
        "outputId": "3e3d7859-e660-456a-9595-e10bbeaf4cd1"
      },
      "source": [
        "#plotting the loss of test and training sets\n",
        "plt.plot(history.history['loss'])\n",
        "plt.plot(history.history['val_loss'])\n",
        "plt.title('Model Loss')\n",
        "plt.ylabel('loss')\n",
        "plt.xlabel('epoch')\n",
        "plt.legend(['train', 'test'], loc='upper left')\n",
        "plt.show()"
      ],
      "execution_count": 41,
      "outputs": [
        {
          "output_type": "display_data",
          "data": {
            "image/png": "[encoded data removed]",
            "text/plain": [
              "<Figure size 432x288 with 1 Axes>"
            ]
          },
          "metadata": {
            "needs_background": "light"
          }
        }
      ]
    },
    {
      "cell_type": "code",
      "metadata": {
        "id": "0jDJtnr3XGSH"
      },
      "source": [
        "y_pred=model.predict(X_test)"
      ],
      "execution_count": 42,
      "outputs": []
    },
    {
      "cell_type": "code",
      "metadata": {
        "colab": {
          "base_uri": "https://localhost:8080/"
        },
        "id": "FoTOC8toXIlo",
        "outputId": "23827328-569b-4a0f-a0bf-e0988c85b4c3"
      },
      "source": [
        "y_pred[21]"
      ],
      "execution_count": 43,
      "outputs": [
        {
          "output_type": "execute_result",
          "data": {
            "text/plain": [
              "array([0.9981824 , 0.00253299], dtype=float32)"
            ]
          },
          "metadata": {},
          "execution_count": 43
        }
      ]
    },
    {
      "cell_type": "code",
      "metadata": {
        "colab": {
          "base_uri": "https://localhost:8080/"
        },
        "id": "LIYMCC5LXMRI",
        "outputId": "aba99171-7197-4156-cff7-a7029ac3c09e"
      },
      "source": [
        "y_test[21]"
      ],
      "execution_count": 44,
      "outputs": [
        {
          "output_type": "execute_result",
          "data": {
            "text/plain": [
              "array([1., 0.], dtype=float32)"
            ]
          },
          "metadata": {},
          "execution_count": 44
        }
      ]
    },
    {
      "cell_type": "code",
      "metadata": {
        "id": "AGwPxFzzXOcd"
      },
      "source": [
        "Y_pred=[]\n",
        "for i in y_pred:\n",
        "    if i[0]>i[1]:\n",
        "        Y_pred.append(0)\n",
        "    else:\n",
        "        Y_pred.append(1)"
      ],
      "execution_count": 45,
      "outputs": []
    },
    {
      "cell_type": "code",
      "metadata": {
        "id": "Nih3NKpUXQhm"
      },
      "source": [
        "Y_test=[]\n",
        "for i in y_test:\n",
        "    if i[0]>i[1]:\n",
        "        Y_test.append(0)\n",
        "    else:\n",
        "        Y_test.append(1)"
      ],
      "execution_count": 46,
      "outputs": []
    },
    {
      "cell_type": "code",
      "metadata": {
        "colab": {
          "base_uri": "https://localhost:8080/"
        },
        "id": "tOnpNs61XSl9",
        "outputId": "35345041-e256-479b-cfb2-25db20ed993f"
      },
      "source": [
        "Y_pred[0]"
      ],
      "execution_count": 47,
      "outputs": [
        {
          "output_type": "execute_result",
          "data": {
            "text/plain": [
              "0"
            ]
          },
          "metadata": {},
          "execution_count": 47
        }
      ]
    },
    {
      "cell_type": "code",
      "metadata": {
        "colab": {
          "base_uri": "https://localhost:8080/"
        },
        "id": "PupCV6ZQXUtI",
        "outputId": "03d4c556-173d-4a97-c369-aad13bc9b15e"
      },
      "source": [
        "Y_test[0]"
      ],
      "execution_count": 48,
      "outputs": [
        {
          "output_type": "execute_result",
          "data": {
            "text/plain": [
              "0"
            ]
          },
          "metadata": {},
          "execution_count": 48
        }
      ]
    },
    {
      "cell_type": "code",
      "metadata": {
        "colab": {
          "base_uri": "https://localhost:8080/"
        },
        "id": "8bJiYBl_XWis",
        "outputId": "17b2330c-8545-46d9-c8dc-63e4dd4ebbad"
      },
      "source": [
        "from sklearn.metrics import classification_report, confusion_matrix\n",
        "print('Confusion Matrix')\n",
        "print(confusion_matrix(Y_test, Y_pred))\n",
        "print('Classification Report')\n",
        "print(classification_report(Y_test, Y_pred, target_names=['IDC(-)','IDC(+)']))"
      ],
      "execution_count": 49,
      "outputs": [
        {
          "output_type": "stream",
          "name": "stdout",
          "text": [
            "Confusion Matrix\n",
            "[[1609   96]\n",
            " [ 112  233]]\n",
            "Classification Report\n",
            "              precision    recall  f1-score   support\n",
            "\n",
            "      IDC(-)       0.93      0.94      0.94      1705\n",
            "      IDC(+)       0.71      0.68      0.69       345\n",
            "\n",
            "    accuracy                           0.90      2050\n",
            "   macro avg       0.82      0.81      0.82      2050\n",
            "weighted avg       0.90      0.90      0.90      2050\n",
            "\n"
          ]
        }
      ]
    },
    {
      "cell_type": "code",
      "metadata": {
        "id": "O7S5HLI0XY-3"
      },
      "source": [
        "model.save('/content/input/modelcnn.h5')"
      ],
      "execution_count": 50,
      "outputs": []
    },
    {
      "cell_type": "code",
      "metadata": {
        "id": "DQlTZoVOXavK"
      },
      "source": [
        "confusionmatrix=confusion_matrix(Y_test, Y_pred)"
      ],
      "execution_count": 51,
      "outputs": []
    },
    {
      "cell_type": "code",
      "metadata": {
        "colab": {
          "base_uri": "https://localhost:8080/"
        },
        "id": "AI0UszmuXhil",
        "outputId": "a1600da3-d781-459d-f837-329ffc493249"
      },
      "source": [
        "confusionmatrix.shape"
      ],
      "execution_count": 52,
      "outputs": [
        {
          "output_type": "execute_result",
          "data": {
            "text/plain": [
              "(2, 2)"
            ]
          },
          "metadata": {},
          "execution_count": 52
        }
      ]
    },
    {
      "cell_type": "code",
      "metadata": {
        "id": "50uul8LxXiXd"
      },
      "source": [
        "classes=[0,1]\n",
        "con_mat_df = pd.DataFrame(confusion_matrix(Y_test, Y_pred),\n",
        "                     index = classes, \n",
        "                     columns = classes)"
      ],
      "execution_count": 53,
      "outputs": []
    },
    {
      "cell_type": "code",
      "metadata": {
        "colab": {
          "base_uri": "https://localhost:8080/",
          "height": 112
        },
        "id": "62Fh-sflXkVY",
        "outputId": "f757632a-60b5-47f8-c714-a2192a54f275"
      },
      "source": [
        "con_mat_df"
      ],
      "execution_count": 54,
      "outputs": [
        {
          "output_type": "execute_result",
          "data": {
            "text/html": [
              "<div>\n",
              "<style scoped>\n",
              "    .dataframe tbody tr th:only-of-type {\n",
              "        vertical-align: middle;\n",
              "    }\n",
              "\n",
              "    .dataframe tbody tr th {\n",
              "        vertical-align: top;\n",
              "    }\n",
              "\n",
              "    .dataframe thead th {\n",
              "        text-align: right;\n",
              "    }\n",
              "</style>\n",
              "<table border=\"1\" class=\"dataframe\">\n",
              "  <thead>\n",
              "    <tr style=\"text-align: right;\">\n",
              "      <th></th>\n",
              "      <th>0</th>\n",
              "      <th>1</th>\n",
              "    </tr>\n",
              "  </thead>\n",
              "  <tbody>\n",
              "    <tr>\n",
              "      <th>0</th>\n",
              "      <td>1609</td>\n",
              "      <td>96</td>\n",
              "    </tr>\n",
              "    <tr>\n",
              "      <th>1</th>\n",
              "      <td>112</td>\n",
              "      <td>233</td>\n",
              "    </tr>\n",
              "  </tbody>\n",
              "</table>\n",
              "</div>"
            ],
            "text/plain": [
              "      0    1\n",
              "0  1609   96\n",
              "1   112  233"
            ]
          },
          "metadata": {},
          "execution_count": 54
        }
      ]
    },
    {
      "cell_type": "code",
      "metadata": {
        "colab": {
          "base_uri": "https://localhost:8080/",
          "height": 455
        },
        "id": "9k9NxL4dXmMu",
        "outputId": "066283ec-aa77-4f66-ab6c-ea1da485305c"
      },
      "source": [
        "import seaborn as sns\n",
        "\n",
        "figure = plt.figure(figsize=(6, 6))\n",
        "sns.heatmap(con_mat_df, annot=True,cmap=plt.cm.cool,fmt='d')\n",
        "plt.tight_layout()\n",
        "plt.ylabel('Actual')\n",
        "plt.xlabel('Predicted')\n",
        "plt.show()"
      ],
      "execution_count": 55,
      "outputs": [
        {
          "output_type": "display_data",
          "data": {
            "image/png": "[encoded data removed]",
            "text/plain": [
              "<Figure size 432x432 with 2 Axes>"
            ]
          },
          "metadata": {
            "needs_background": "light"
          }
        }
      ]
    }
  ]
}